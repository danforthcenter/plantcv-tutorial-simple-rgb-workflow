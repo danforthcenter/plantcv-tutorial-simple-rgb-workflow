{
 "cells": [
  {
   "cell_type": "markdown",
   "id": "8a2ebfdd-b654-49f9-a045-ddd38466e050",
   "metadata": {},
   "source": [
    "# Simple RGB image workflow\n",
    "\n",
    "Made by: Anna Casto\n",
    "\n",
    "Updated: April 16, 2023\n",
    "\n",
    "This tutorial shows basic steps for analyzing an RGB image of a single plant. Many more options are available at each step, if needed. Some of these are illustrated in the tutorial:[Single Plant RGB Image Workflow](https://plantcv.readthedocs.io/en/stable/tutorials/vis_tutorial/)\n"
   ]
  },
  {
   "cell_type": "code",
   "execution_count": null,
   "id": "db1b74e4-333f-4091-a585-16efe9068836",
   "metadata": {
    "tags": []
   },
   "outputs": [],
   "source": [
    "# Install PlantCV and required dependencies\n",
    "%pip install \"altair>=5\" ipympl plantcv\n",
    "\n",
    "# Give access and mount your Google Drive (need a Google Account)\n",
    "# Change path to directory you wish output files to be saved to.\n",
    "from google.colab import drive\n",
    "drive.mount('/content/gdrive')\n",
    "\n",
    "# Enable widget feature with matplotlib\n",
    "from google.colab import output\n",
    "output.enable_custom_widget_manager()\n",
    "\n",
    "#View working directory, may need to change path\n",
    "%pwd"
   ]
  },
  {
   "cell_type": "markdown",
   "id": "715cfb09-caf0-44ad-bfc3-536d3bf91587",
   "metadata": {
    "id": "604065b5"
   },
   "source": [
    "# Section 1: Importing Image and Libraries"
   ]
  },
  {
   "cell_type": "code",
   "execution_count": null,
   "id": "47a41242-c971-4fa0-96b5-47fac98d546e",
   "metadata": {
    "id": "62ef791b"
   },
   "outputs": [],
   "source": [
    "# Set the notebook display method\n",
    "# If widget is not working, then change to inline\n",
    "%matplotlib widget\n",
    "\n",
    "# Import libraries\n",
    "from plantcv import plantcv as pcv\n",
    "from plantcv.parallel import WorkflowInputs\n",
    "\n",
    "# Print out the version of PlantCV being used by the Jupyter kernel\n",
    "pcv.__version__"
   ]
  },
  {
   "cell_type": "markdown",
   "id": "227d549c-32d8-4056-8e1d-2352de9a9ffc",
   "metadata": {
    "id": "4468af74"
   },
   "source": [
    "## Input/Output variables\n",
    "\n",
    "The options class mimics the workflow command-line argument parser that is used for workflow parallelization. Using it while developing a workflow in Jupyter makes it easier to convert the workflow to a script later. Remember, always keep your raw images separate from your newly processed images!"
   ]
  },
  {
   "cell_type": "code",
   "execution_count": null,
   "id": "c30d0759-6cda-4101-aef8-da875ebaea7f",
   "metadata": {},
   "outputs": [],
   "source": [
    "# Input/output options\n",
    "args = WorkflowInputs(\n",
    "    images=[\"./img/1_B73_sand_C_2023-04-14_10_19_07.jpg\"],\n",
    "    names=\"image1\",\n",
    "    result=\"example_results.json\",\n",
    "    outdir=\".\",\n",
    "    writeimg=False,\n",
    "    debug=\"plot\"\n",
    "    )"
   ]
  },
  {
   "cell_type": "markdown",
   "id": "d8bb3086-31f2-4cfd-85ee-a2463e735594",
   "metadata": {},
   "source": [
    "#### Edit display settings if necessary"
   ]
  },
  {
   "cell_type": "code",
   "execution_count": null,
   "id": "7c0cf253-659a-4214-8042-5ad3030765b4",
   "metadata": {},
   "outputs": [],
   "source": [
    "# Set debug to the global parameter \n",
    "pcv.params.debug = args.debug\n",
    "# Change display settings\n",
    "pcv.params.dpi = 100\n",
    "# Increase text size and thickness to make labels clearer\n",
    "# (size may need to be altered based on original image size)\n",
    "pcv.params.text_size = 10\n",
    "pcv.params.text_thickness = 20"
   ]
  },
  {
   "cell_type": "markdown",
   "id": "a3dda672-0ef9-4719-9e43-ff1850661652",
   "metadata": {
    "id": "343a0816"
   },
   "source": [
    "## Read the input image"
   ]
  },
  {
   "cell_type": "markdown",
   "id": "625ab80a-cba6-4166-a1d8-d54df37875bd",
   "metadata": {
    "id": "pnZYaudIgcHd"
   },
   "source": [
    "### Google Colaboratory Users:\n",
    "If you are running this notebook using Google Colaboratory, you will need to use the cell below to complete the tutorial unless you cloned the repository from GitHub to your personal Google Drive account. Once you begin developing your workflow for your data, you can delete this text cell and the code cell below so you avoid any conflicts the next time you use this notebook."
   ]
  },
  {
   "cell_type": "code",
   "execution_count": null,
   "id": "0f8ffab3-1606-47bc-8bdb-f3fd74994b2c",
   "metadata": {
    "id": "3ItGZYvOyOir"
   },
   "outputs": [],
   "source": [
    "img = pcv.io.open_url(url=\"https://raw.githubusercontent.com/danforthcenter/plantcv-tutorial-simple-rgb-workflow/main/img/1_B73_sand_C_2023-04-14_10_19_07.jpg\")"
   ]
  },
  {
   "cell_type": "markdown",
   "id": "d3dd7926-6c09-4aa0-8d77-3a68c24c23fc",
   "metadata": {
    "id": "r8URuV3ZhALj",
    "jp-MarkdownHeadingCollapsed": true
   },
   "source": [
    "### Local system use:\n",
    "If you have downloaded this notebook or the repository to your local device, then you will need to use the cell below to bring your image into the notebook. Do not run this line if you are navigating through the **tutorial** using Google Colaboratory.\n",
    "\n",
    "NOTE: *If you are developing your own workflow using this notebook, make sure you remove the code cell above with the URL and uncomment (remove the hashtag [#] to make the code active. This will call the image you defined during the Inputs/Outputs step.*"
   ]
  },
  {
   "cell_type": "markdown",
   "id": "91d64ace-e153-432b-8ec0-1b6c53a7a62f",
   "metadata": {
    "id": "Q4Na59TNNg1x"
   },
   "source": [
    "### Reading images into your environment using *pcv.readimage()*\n",
    "Inputs:\n",
    "   * filename = Image file to be read in\n",
    "   * mode     = How the image will be read into the notebook; either 'native' (default), 'rgb', 'gray', 'csv', or 'envi'"
   ]
  },
  {
   "cell_type": "code",
   "execution_count": null,
   "id": "964f1012",
   "metadata": {
    "scrolled": true
   },
   "outputs": [],
   "source": [
    "img, path, filename = pcv.readimage(filename=args.image1)"
   ]
  },
  {
   "cell_type": "markdown",
   "id": "e8af679e-9058-4f45-beed-7df80e4e33c2",
   "metadata": {},
   "source": [
    "#### Crop image if necessary. \n",
    "This is optional but can help if there are many extra objects around the object you're interested in. "
   ]
  },
  {
   "cell_type": "code",
   "execution_count": null,
   "id": "29b906e6-de66-4368-a39e-0319fa671bf2",
   "metadata": {},
   "outputs": [],
   "source": [
    "# Inputs:\n",
    "#   img - RGB, grayscale, or hyperspectral image data \n",
    "#   x - X coordinate of the top left corner of the box to crop to\n",
    "#   y - Y coordinate of the top left corner of the box to crop to\n",
    "#   h - Height of the box to crop to\n",
    "#   w - Width of the box to crop to\n",
    "\n",
    "crop_img = pcv.crop(img=img, x=1500, y=0, h=2900, w=2500)"
   ]
  },
  {
   "cell_type": "markdown",
   "id": "9a7202b6-4ad1-4479-90c9-534281069c81",
   "metadata": {},
   "source": [
    "#### Optional color correction\n",
    "If you have a color card in your image, you have the option to color correct your images to a reference image or to the color card standard values. Color correction isn't always necessary, but if your images had variable lighting, color correction can help with segmentation. Most importantly, color correction allows you to compare color values like hue circular mean between images when analyzing color. \n",
    "See the [Color correction tutorial](https://plantcv.readthedocs.io/en/stable/tutorials/transform_color_correction_tutorial/) or the [VIS tutorial](https://plantcv.readthedocs.io/en/stable/tutorials/vis_tutorial/) for more on color correction. \n",
    "Also see [White balance](https://plantcv.readthedocs.io/en/stable/white_balance/) for more image normalization functions."
   ]
  },
  {
   "cell_type": "markdown",
   "id": "a211c74d-9be6-45f9-a25a-ac4ec1c56ecb",
   "metadata": {},
   "source": [
    "#### The visualize.colorspaces function allows you to look at the color space options for masking. \n",
    "Choose the colorspace in which the plant is most distinct from the backgound. This is a visualization to help with the next step."
   ]
  },
  {
   "cell_type": "code",
   "execution_count": null,
   "id": "a0bc6484-38fc-4c1d-b07d-a874b302d468",
   "metadata": {},
   "outputs": [],
   "source": [
    "# Inputs:\n",
    "#   rgb_img - RGB image\n",
    "\n",
    "colorspace_img = pcv.visualize.colorspaces(rgb_img=crop_img)"
   ]
  },
  {
   "cell_type": "markdown",
   "id": "eb1f5fa2-b791-4b8c-9e37-f427a9f4d537",
   "metadata": {},
   "source": [
    "#### Convert the RGB image to LAB and select the B channel\n",
    "This step converts the RGB image to a grayscale image of a single colorspace channel. You can choose any of the above colorspaces. Be aware that the function to convert the RGB image will changed depending on your choice. \n",
    "See: [RGB to HSV](https://plantcv.readthedocs.io/en/stable/rgb2hsv/), [RGB to LAB](https://plantcv.readthedocs.io/en/stable/rgb2lab/), [RGB to CMYK](https://plantcv.readthedocs.io/en/stable/rgb2cmyk/)"
   ]
  },
  {
   "cell_type": "code",
   "execution_count": null,
   "id": "d56a82f8-79e1-4f09-bef4-6d8a752bf6d3",
   "metadata": {},
   "outputs": [],
   "source": [
    "# Inputs:\n",
    "#   rgb_img - RGB image\n",
    "#   channel - colorspace channel selection (l, a, or b in this case)\n",
    "\n",
    "b_img = pcv.rgb2gray_lab(rgb_img=crop_img, channel='a')"
   ]
  },
  {
   "cell_type": "markdown",
   "id": "c1ea77be-ce67-4cf0-9ef1-b97bc389fc0a",
   "metadata": {},
   "source": [
    "#### Create binary image from a gray image based on threshold values targeting light objects in the image.\n",
    "Creating a histogram of the pixel intensity of the b channel image gives us an idea of what value to set the threshold to.\n",
    "The histogram is for visualizatin only. It isn't needed for the analysis."
   ]
  },
  {
   "cell_type": "code",
   "execution_count": null,
   "id": "b10d109c-c917-44b7-b64c-d51b000852df",
   "metadata": {},
   "outputs": [],
   "source": [
    "# Inputs:\n",
    "#   img - image data\n",
    "#   channel - colorspace channel selection (l, a, or b in this case)\n",
    "\n",
    "hist_figure1, hist_data1 = pcv.visualize.histogram(img = b_img, hist_data=True)"
   ]
  },
  {
   "cell_type": "code",
   "execution_count": null,
   "id": "4080458c-e1c1-43a5-853c-2fc807fd1ecf",
   "metadata": {},
   "outputs": [],
   "source": [
    "# Inputs:\n",
    "#   gray_img - grayscale image data\n",
    "#   threshold - Threshold value (0-255)\n",
    "#   object_type - \"light\" or \"dark\" (default: \"light\"). If object is lighter than the background then standard thresholding is done. \n",
    "#                 If object is darker than the background then inverse thresholding is done.\n",
    "\n",
    "thresh_mask = pcv.threshold.binary(gray_img=b_img, threshold=130, object_type='light')"
   ]
  },
  {
   "cell_type": "markdown",
   "id": "63270ddf-e628-49a6-9eed-e1e1d2747aac",
   "metadata": {},
   "source": [
    "#### Cleaning up the mask\n",
    "There are several options for cleaning up and adjusting our mask ([fill](https://plantcv.readthedocs.io/en/stable/fill/#fill), [fill_holes](https://plantcv.readthedocs.io/en/stable/fill_holes/), [dilate](https://plantcv.readthedocs.io/en/stable/dilate/), [erode](https://plantcv.readthedocs.io/en/stable/erode/#erode), etc).\n",
    "Here we will just use fill to fill in small objects."
   ]
  },
  {
   "cell_type": "code",
   "execution_count": null,
   "id": "4103b2e9-4b66-49ad-956e-ecbf7641f490",
   "metadata": {},
   "outputs": [],
   "source": [
    "# Inputs:\n",
    "#   bin_img - mask, binary image data\n",
    "#   size - minimum object area size in pixels (integer), smaller objects will be filled\n",
    "\n",
    "\n",
    "fill_mask = pcv.fill(bin_img=thresh_mask, size=1000)"
   ]
  },
  {
   "cell_type": "markdown",
   "id": "d634eff9-ac4f-4dae-9f10-510947b31199",
   "metadata": {},
   "source": [
    "#### Define the region of interest (ROI).\n",
    "The ROI should include the plant but avoid the color card and other objects. \n",
    "There are many options for ROI shapes (rectangle, circle, multi, custom). Here we will just use rectangle. Be aware that you'll need to calculate the height and width of the rectangle you want with respect to the x, y coordinates of the upper left corner."
   ]
  },
  {
   "cell_type": "code",
   "execution_count": null,
   "id": "9ff63f00-eeaa-4589-a083-7acfdd35fc6a",
   "metadata": {},
   "outputs": [],
   "source": [
    "# Inputs: \n",
    "#   img - RGB or grayscale image to plot the ROI on \n",
    "#   x - The x-coordinate of the upper left corner of the rectangle \n",
    "#   y - The y-coordinate of the upper left corner of the rectangle \n",
    "#   h - The height of the rectangle \n",
    "#   w - The width of the rectangle \n",
    "\n",
    "roi = pcv.roi.rectangle(img=fill_mask, x=540, y=0, h=2500, w=1500)"
   ]
  },
  {
   "cell_type": "markdown",
   "id": "d58fd705-18e9-4b8f-a435-7611c685307b",
   "metadata": {},
   "source": [
    "Make a new filtered mask that only keeps the plant in your ROI and not objects outside of the ROI.\n",
    "\n",
    "We have set to partial here so that if a leaf extends outside of your ROI it will still be selected.\n"
   ]
  },
  {
   "cell_type": "code",
   "execution_count": null,
   "id": "f5d23c52-fed9-42f5-ad92-8cfb3f3c918d",
   "metadata": {},
   "outputs": [],
   "source": [
    "# Inputs:\n",
    "#    mask - the clean mask you made above\n",
    "#    roi - the region of interest you specified above\n",
    "#    roi_type - 'partial' (default, for partially inside the ROI), 'cutto', or 'largest' (keep only largest contour)\n",
    "\n",
    "kept_mask  = pcv.roi.filter(mask=fill_mask, roi=roi, roi_type='partial')"
   ]
  },
  {
   "cell_type": "markdown",
   "id": "1430ba95-1658-4b92-a07f-cf6d40108603",
   "metadata": {},
   "source": [
    "# Analysis"
   ]
  },
  {
   "cell_type": "markdown",
   "id": "023859af-c2f1-4809-bcc2-52bbbb11370f",
   "metadata": {},
   "source": [
    "Analyze shape and color. The data gets stored to an Outputs class automatically."
   ]
  },
  {
   "cell_type": "code",
   "execution_count": null,
   "id": "08f79fc2-8a74-4228-a612-b1af64d00bf7",
   "metadata": {},
   "outputs": [],
   "source": [
    "# Inputs:\n",
    "#   img - RGB or grayscale image data \n",
    "#   labeled_mask - the mask of each individual object, set by the create_labels function. \n",
    "#   n_labels - the number of objects, set by the create_labels function. \n",
    "\n",
    "analysis_image = pcv.analyze.size(img=crop_img, labeled_mask=kept_mask)"
   ]
  },
  {
   "cell_type": "code",
   "execution_count": null,
   "id": "c274d66b-47be-439e-b0ca-557e15191ab6",
   "metadata": {},
   "outputs": [],
   "source": [
    "# Inputs:\n",
    "#   rgb_img - RGB image data\n",
    "#   mask - Binary mask of selected contours \n",
    "#   colorspaces - 'all' (default), 'rgb', 'lab', or 'hsv'\n",
    "#                 This is the data to be printed to the SVG histogram file  \n",
    "#   label - Optional label parameter, modifies the variable name of observations recorded. (default `label=\"default\"`)\n",
    "\n",
    "color_histogram = pcv.analyze.color(rgb_img=crop_img, labeled_mask=kept_mask, colorspaces='all', label=\"default\")"
   ]
  },
  {
   "cell_type": "markdown",
   "id": "034464ed-0a2e-4587-9366-da3b2b85b525",
   "metadata": {},
   "source": [
    "# Save Results\n",
    "The path to your results was set above in the inputs/outputs section."
   ]
  },
  {
   "cell_type": "code",
   "execution_count": null,
   "id": "13b30d8e-6119-4474-91f2-df3b3e457971",
   "metadata": {},
   "outputs": [],
   "source": [
    "#This saves results for one image, and each image is saved individually if you run another image (it will overwrite the last one)\n",
    "pcv.outputs.save_results(filename= args.result)"
   ]
  }
 ],
 "metadata": {
  "kernelspec": {
   "display_name": "Python 3 (ipykernel)",
   "language": "python",
   "name": "python3"
  },
  "language_info": {
   "codemirror_mode": {
    "name": "ipython",
    "version": 3
   },
   "file_extension": ".py",
   "mimetype": "text/x-python",
   "name": "python",
   "nbconvert_exporter": "python",
   "pygments_lexer": "ipython3",
   "version": "3.12.8"
  }
 },
 "nbformat": 4,
 "nbformat_minor": 5
}
